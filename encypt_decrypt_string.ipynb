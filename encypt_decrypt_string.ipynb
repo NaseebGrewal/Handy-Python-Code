{
 "cells": [
  {
   "cell_type": "code",
   "execution_count": 1,
   "metadata": {},
   "outputs": [
    {
     "name": "stdout",
     "output_type": "stream",
     "text": [
      "Text: HELLO WORLD\n",
      "Shift: 4\n",
      "Cipher: LIPPSrASVPH\n",
      "Decipher: HELLOnWORLD\n"
     ]
    }
   ],
   "source": []
  },
  {
   "cell_type": "code",
   "execution_count": 2,
   "metadata": {},
   "outputs": [
    {
     "name": "stdout",
     "output_type": "stream",
     "text": [
      "Collecting cryptography\n",
      "  Obtaining dependency information for cryptography from https://files.pythonhosted.org/packages/e3/14/13acd84f2a8303d9410ba2e24534a9d90c2817583636a91c4f314224768d/cryptography-42.0.5-cp39-abi3-win_amd64.whl.metadata\n",
      "  Using cached cryptography-42.0.5-cp39-abi3-win_amd64.whl.metadata (5.4 kB)\n",
      "Collecting cffi>=1.12 (from cryptography)\n",
      "  Obtaining dependency information for cffi>=1.12 from https://files.pythonhosted.org/packages/5a/c7/694814b3757878b29da39bc2f0cf9d20295f4c1e0a0bde7971708d5f23f8/cffi-1.16.0-cp311-cp311-win_amd64.whl.metadata\n",
      "  Using cached cffi-1.16.0-cp311-cp311-win_amd64.whl.metadata (1.5 kB)\n",
      "Collecting pycparser (from cffi>=1.12->cryptography)\n",
      "  Obtaining dependency information for pycparser from https://files.pythonhosted.org/packages/13/a3/a812df4e2dd5696d1f351d58b8fe16a405b234ad2886a0dab9183fb78109/pycparser-2.22-py3-none-any.whl.metadata\n",
      "  Using cached pycparser-2.22-py3-none-any.whl.metadata (943 bytes)\n",
      "Using cached cryptography-42.0.5-cp39-abi3-win_amd64.whl (2.9 MB)\n",
      "Using cached cffi-1.16.0-cp311-cp311-win_amd64.whl (181 kB)\n",
      "Using cached pycparser-2.22-py3-none-any.whl (117 kB)\n",
      "Installing collected packages: pycparser, cffi, cryptography\n",
      "Successfully installed cffi-1.16.0 cryptography-42.0.5 pycparser-2.22\n",
      "Note: you may need to restart the kernel to use updated packages.\n"
     ]
    },
    {
     "name": "stderr",
     "output_type": "stream",
     "text": [
      "\n",
      "[notice] A new release of pip is available: 23.2.1 -> 24.0\n",
      "[notice] To update, run: python.exe -m pip install --upgrade pip\n"
     ]
    }
   ],
   "source": [
    "%pip install cryptography  \n"
   ]
  },
  {
   "cell_type": "code",
   "execution_count": 3,
   "metadata": {},
   "outputs": [
    {
     "name": "stdout",
     "output_type": "stream",
     "text": [
      "Original message: b'HELLO WORLD'\n",
      "Encrypted message: b'Z0qVJQjvwkdXb6OOJ7/7BR5e0+yErTRy7Q/CD9LK/mXXKn7BFTp+C3Epe6Bk7OtYifm2O6tCO3RGroYWjSW8a7wlN04OLWRbhTPNNIR1ZmhYt1XBwiOf66WPzQDpqL/V4tJZvl5Az287F6UFsZJoinu+F7F2z+5twL5NHWyUWWbeRLifSpJu/wL/qC+25wo/A7lE33XJ0SraQ5u741bvKxGNKrQ2H1hBi38hFaGTVv9qFpORS8H/WzPpxfOZgLW7RcmU8EzshE/3QAGMPWEuiCfPC9vJlS4phM/R64+2p3ZlQRVFZWe86oOZQ0+Z5odvfupDok8eD6dc6idrd5lOXA=='\n",
      "Decrypted message: b'HELLO WORLD'\n"
     ]
    }
   ],
   "source": [
    "from cryptography.hazmat.backends import default_backend  \n",
    "from cryptography.hazmat.primitives import serialization  \n",
    "from cryptography.hazmat.primitives.asymmetric import rsa  \n",
    "from cryptography.hazmat.primitives import hashes  \n",
    "from cryptography.hazmat.primitives.asymmetric import padding  \n",
    "import base64  \n",
    "  \n",
    "# Generate a new RSA key pair  \n",
    "private_key = rsa.generate_private_key(  \n",
    "    public_exponent=65537,  \n",
    "    key_size=2048,  \n",
    "    backend=default_backend()  \n",
    ")  \n",
    "public_key = private_key.public_key()  \n",
    "  \n",
    "# Function to encrypt a message  \n",
    "def encrypt(message):  \n",
    "    encrypted = public_key.encrypt(  \n",
    "        message,  \n",
    "        padding.OAEP(  \n",
    "            mgf=padding.MGF1(algorithm=hashes.SHA256()),  \n",
    "            algorithm=hashes.SHA256(),  \n",
    "            label=None  \n",
    "        )  \n",
    "    )  \n",
    "    return base64.b64encode(encrypted)  \n",
    "  \n",
    "# Function to decrypt a message  \n",
    "def decrypt(encrypted):  \n",
    "    original_message = private_key.decrypt(  \n",
    "        base64.b64decode(encrypted),  \n",
    "        padding.OAEP(  \n",
    "            mgf=padding.MGF1(algorithm=hashes.SHA256()),  \n",
    "            algorithm=hashes.SHA256(),  \n",
    "            label=None  \n",
    "        )  \n",
    "    )  \n",
    "    return original_message  \n",
    "  \n",
    "# Test the code  \n",
    "message = b'HELLO WORLD'  \n",
    "print(\"Original message:\", message)  \n",
    "encrypted_message = encrypt(message)  \n",
    "print(\"Encrypted message:\", encrypted_message)  \n",
    "print(\"Decrypted message:\", decrypt(encrypted_message))  "
   ]
  },
  {
   "cell_type": "code",
   "execution_count": 4,
   "metadata": {},
   "outputs": [
    {
     "name": "stdout",
     "output_type": "stream",
     "text": [
      "Original message: b'HELLO WORLD'\n",
      "Encrypted message: b'gAAAAABmI7x3MHx10NlKeVrPrIYqaHaanATyVClStR91vkXoo3-nf3NxJ0GsfRn9fdhZN6GFv9c5_Chp0FLcdFxOaW35eFalPQ=='\n",
      "Decrypted message: b'HELLO WORLD'\n"
     ]
    }
   ],
   "source": [
    "from cryptography.fernet import Fernet  \n",
    "  \n",
    "# Generate a key  \n",
    "key = Fernet.generate_key()  \n",
    "cipher_suite = Fernet(key)  \n",
    "  \n",
    "# Function to encrypt a message  \n",
    "def encrypt(message):  \n",
    "    cipher_text = cipher_suite.encrypt(message)  \n",
    "    return cipher_text  \n",
    "  \n",
    "# Function to decrypt a message  \n",
    "def decrypt(cipher_text):  \n",
    "    plain_text = cipher_suite.decrypt(cipher_text)  \n",
    "    return plain_text  \n",
    "  \n",
    "# Test the code  \n",
    "message = b'HELLO WORLD'  \n",
    "print(\"Original message:\", message)  \n",
    "encrypted_message = encrypt(message)  \n",
    "print(\"Encrypted message:\", encrypted_message)  \n",
    "print(\"Decrypted message:\", decrypt(encrypted_message))  \n"
   ]
  },
  {
   "cell_type": "code",
   "execution_count": 5,
   "metadata": {},
   "outputs": [
    {
     "name": "stdout",
     "output_type": "stream",
     "text": [
      "2c74fd17edafd80e8447b0d46741ee243b7eb74dd2149a0ab1b9246fb30382f27e853d8585719e0e67cbda0daa8f51671064615d645ae27acb15bfb1447f459b\n"
     ]
    }
   ],
   "source": [
    "import hashlib  \n",
    "  \n",
    "def hash_string(input_string):  \n",
    "    sha_signature = hashlib.sha512(input_string.encode()).hexdigest()  \n",
    "    return sha_signature  \n",
    "  \n",
    "# Test the function  \n",
    "print(hash_string('Hello World'))  \n"
   ]
  },
  {
   "cell_type": "code",
   "execution_count": 1,
   "metadata": {},
   "outputs": [
    {
     "name": "stdout",
     "output_type": "stream",
     "text": [
      "Collecting pypdf2\n",
      "  Obtaining dependency information for pypdf2 from https://files.pythonhosted.org/packages/8e/5e/c86a5643653825d3c913719e788e41386bee415c2b87b4f955432f2de6b2/pypdf2-3.0.1-py3-none-any.whl.metadata\n",
      "  Using cached pypdf2-3.0.1-py3-none-any.whl.metadata (6.8 kB)\n",
      "Using cached pypdf2-3.0.1-py3-none-any.whl (232 kB)\n",
      "Installing collected packages: pypdf2\n",
      "Successfully installed pypdf2-3.0.1\n",
      "Note: you may need to restart the kernel to use updated packages.\n"
     ]
    },
    {
     "name": "stderr",
     "output_type": "stream",
     "text": [
      "\n",
      "[notice] A new release of pip is available: 23.2.1 -> 24.0\n",
      "[notice] To update, run: python.exe -m pip install --upgrade pip\n"
     ]
    }
   ],
   "source": [
    "%pip install pypdf2"
   ]
  },
  {
   "cell_type": "code",
   "execution_count": 2,
   "metadata": {},
   "outputs": [
    {
     "name": "stdout",
     "output_type": "stream",
     "text": [
      "Collecting fpdf\n",
      "  Downloading fpdf-1.7.2.tar.gz (39 kB)\n",
      "  Installing build dependencies: started\n",
      "  Installing build dependencies: finished with status 'done'\n",
      "  Getting requirements to build wheel: started\n",
      "  Getting requirements to build wheel: finished with status 'done'\n",
      "  Preparing metadata (pyproject.toml): started\n",
      "  Preparing metadata (pyproject.toml): finished with status 'done'\n",
      "Building wheels for collected packages: fpdf\n",
      "  Building wheel for fpdf (pyproject.toml): started\n",
      "  Building wheel for fpdf (pyproject.toml): finished with status 'done'\n",
      "  Created wheel for fpdf: filename=fpdf-1.7.2-py2.py3-none-any.whl size=40713 sha256=f6b739cec679368a6a136ddf647d38f83d05b983007b7b25ca04b9d4c65b9795\n",
      "  Stored in directory: c:\\users\\legion 5 pro 007\\appdata\\local\\pip\\cache\\wheels\\65\\4f\\66\\bbda9866da446a72e206d6484cd97381cbc7859a7068541c36\n",
      "Successfully built fpdf\n",
      "Installing collected packages: fpdf\n",
      "Successfully installed fpdf-1.7.2\n",
      "Note: you may need to restart the kernel to use updated packages.\n"
     ]
    },
    {
     "name": "stderr",
     "output_type": "stream",
     "text": [
      "\n",
      "[notice] A new release of pip is available: 23.2.1 -> 24.0\n",
      "[notice] To update, run: python.exe -m pip install --upgrade pip\n"
     ]
    }
   ],
   "source": [
    "%pip install fpdf  "
   ]
  },
  {
   "cell_type": "code",
   "execution_count": null,
   "metadata": {},
   "outputs": [],
   "source": []
  }
 ],
 "metadata": {
  "kernelspec": {
   "display_name": ".venv",
   "language": "python",
   "name": "python3"
  },
  "language_info": {
   "codemirror_mode": {
    "name": "ipython",
    "version": 3
   },
   "file_extension": ".py",
   "mimetype": "text/x-python",
   "name": "python",
   "nbconvert_exporter": "python",
   "pygments_lexer": "ipython3",
   "version": "3.11.5"
  }
 },
 "nbformat": 4,
 "nbformat_minor": 2
}
